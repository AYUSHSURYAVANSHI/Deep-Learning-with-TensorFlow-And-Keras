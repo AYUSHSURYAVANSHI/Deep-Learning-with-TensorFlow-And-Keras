{
 "cells": [
  {
   "cell_type": "code",
   "execution_count": 1,
   "id": "8c21f411-e36e-4410-8370-42958abdbe5e",
   "metadata": {},
   "outputs": [],
   "source": [
    "def tanh(x):\n",
    "    return tf.keras.activations.tanh(x)"
   ]
  },
  {
   "cell_type": "code",
   "execution_count": 2,
   "id": "ce3edce7-c41d-4da5-93ff-c49b036028c8",
   "metadata": {},
   "outputs": [
    {
     "ename": "NameError",
     "evalue": "name 'plot_graph' is not defined",
     "output_type": "error",
     "traceback": [
      "\u001b[0;31m---------------------------------------------------------------------------\u001b[0m",
      "\u001b[0;31mNameError\u001b[0m                                 Traceback (most recent call last)",
      "Cell \u001b[0;32mIn[2], line 1\u001b[0m\n\u001b[0;32m----> 1\u001b[0m \u001b[43mplot_graph\u001b[49m(x, tanh(x), title\u001b[38;5;241m=\u001b[39m\u001b[38;5;124m\"\u001b[39m\u001b[38;5;124mHyperbolic Tangent\u001b[39m\u001b[38;5;124m\"\u001b[39m,\n\u001b[1;32m      2\u001b[0m            LABEL\u001b[38;5;241m=\u001b[39m\u001b[38;5;124mr\u001b[39m\u001b[38;5;124m\"\u001b[39m\u001b[38;5;124m$tanh(x) = \u001b[39m\u001b[38;5;124m\\\u001b[39m\u001b[38;5;124mfrac\u001b[39m\u001b[38;5;124m{\u001b[39m\u001b[38;5;124m(e^\u001b[39m\u001b[38;5;132;01m{x}\u001b[39;00m\u001b[38;5;124m - e^\u001b[39m\u001b[38;5;124m{\u001b[39m\u001b[38;5;124m-x})}\u001b[39m\u001b[38;5;124m{\u001b[39m\u001b[38;5;124m(e^\u001b[39m\u001b[38;5;132;01m{x}\u001b[39;00m\u001b[38;5;124m + e^\u001b[39m\u001b[38;5;124m{\u001b[39m\u001b[38;5;124m-x})}$\u001b[39m\u001b[38;5;124m\"\u001b[39m);\n\u001b[1;32m      4\u001b[0m plot_graph(x, derivative(tanh, x), title\u001b[38;5;241m=\u001b[39m\u001b[38;5;124m\"\u001b[39m\u001b[38;5;124mDerivative of tanh function\u001b[39m\u001b[38;5;124m\"\u001b[39m, \n\u001b[1;32m      5\u001b[0m            LABEL\u001b[38;5;241m=\u001b[39m\u001b[38;5;124mr\u001b[39m\u001b[38;5;124m\"\u001b[39m\u001b[38;5;124m$tanh^\u001b[39m\u001b[38;5;124m\\\u001b[39m\u001b[38;5;124mprime(x) = 1 - tanh^2(x)$\u001b[39m\u001b[38;5;124m\"\u001b[39m)\n",
      "\u001b[0;31mNameError\u001b[0m: name 'plot_graph' is not defined"
     ]
    }
   ],
   "source": [
    "plot_graph(x, tanh(x), title=\"Hyperbolic Tangent\",\n",
    "           LABEL=r\"$tanh(x) = \\frac{(e^{x} - e^{-x})}{(e^{x} + e^{-x})}$\");\n",
    "\n",
    "plot_graph(x, derivative(tanh, x), title=\"Derivative of tanh function\", \n",
    "           LABEL=r\"$tanh^\\prime(x) = 1 - tanh^2(x)$\")"
   ]
  },
  {
   "cell_type": "code",
   "execution_count": null,
   "id": "2dc16da2-16de-437b-b514-b47709b7c992",
   "metadata": {},
   "outputs": [],
   "source": []
  }
 ],
 "metadata": {
  "kernelspec": {
   "display_name": "Python 3 (ipykernel)",
   "language": "python",
   "name": "python3"
  },
  "language_info": {
   "codemirror_mode": {
    "name": "ipython",
    "version": 3
   },
   "file_extension": ".py",
   "mimetype": "text/x-python",
   "name": "python",
   "nbconvert_exporter": "python",
   "pygments_lexer": "ipython3",
   "version": "3.10.8"
  }
 },
 "nbformat": 4,
 "nbformat_minor": 5
}
